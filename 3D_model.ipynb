from queue import PriorityQueue
import random
import matplotlib.pyplot as plt
from mpl_toolkits.mplot3d import Axes3D

def heuristic(a, b):
    # Manhattan distance
    return abs(a[0] - b[0]) + abs(a[1] - b[1]) + abs(a[2] - b[2])

def a_star(grid, start, goal):
    # Create a priority queue to store the cells to explore
    frontier = PriorityQueue()
    frontier.put(start, 0)
    
    # Create dictionaries to store the cost of reaching a cell and the previous cell
    cost_so_far = {}
    came_from = {}
    cost_so_far[start] = 0
    came_from[start] = None
    
    while not frontier.empty():
        current = frontier.get()
        
        # Check if we have reached the goal
        if current == goal:
            break
        
        # Explore the neighbors of the current cell
        for next in neighbors(grid, current):
            new_cost = cost_so_far[current] + 1 # Assume all movements have a cost of 1
            if next not in cost_so_far or new_cost < cost_so_far[next]:
                cost_so_far[next] = new_cost
                priority = new_cost + heuristic(goal, next)
                frontier.put(next, priority)
                came_from[next] = current
    
    # Check if a path was found
    if goal not in came_from:
        return None
    
    # Reconstruct the path from the goal to the start
    current = goal
    path = []
    while current != start:
        path.append(current)
        current = came_from[current]
    path.append(start)
    path.reverse()
    
    return path

def neighbors(grid, current):
    # Returns the list of valid neighbors of the current cell in a 3D environment
    x, y, z = current
    neighbors = []
    
    if x > 0 and grid[x-1][y][z] == 0:
        neighbors.append((x-1, y, z))
    if x < len(grid)-1 and grid[x+1][y][z] == 0:
        neighbors.append((x+1, y, z))
    if y > 0 and grid[x][y-1][z] == 0:
        neighbors.append((x, y-1, z))
    if y < len(grid[0])-1 and grid[x][y+1][z] == 0:
        neighbors.append((x, y+1, z))
    if z > 0 and grid[x][y][z-1] == 0:
        neighbors.append((x, y, z-1))
    if z < len(grid[0][0])-1 and grid[x][y][z+1] == 0:
        neighbors.append((x, y, z+1))
    
    return neighbors

def generate_grid(size, obstacle_probability):
    grid = []
    for i in range(size):
        xy_plane = []
        for j in range(size):
            row = []
            for k in range(size):
                if random.random() < obstacle_probability:
                    row.append(1) # Add an obstacle
                else:
                    row.append(0) # Add an empty cell
            xy_plane.append(row)
        grid.append(xy_plane)
    return grid

def plot_path(grid, path):
    fig = plt.figure()
    ax = fig.add_subplot(111, projection='3d')
    
    # Plot the obstacles
    xs, ys, zs = [], [], []
    for x in range(len(grid)):
        for y in range(len(grid[0])):
            for z in range(len(grid[0][0])):
                if grid[x][y][z] == 1:
                    xs.append(x)
                    ys.append(y)
                    zs.append(z)
    ax.scatter(xs, ys, zs, c='black')
    
    # Plot the path
    xs, ys, zs = zip(*path)
    ax.plot(xs, ys, zs, c='red')
    
    plt.show()

# Example usage
grid_size = 10
obstacle_probability = 0.2

grid = generate_grid(grid_size, obstacle_probability)
start = (0, 0, 0)
goal = (grid_size-1, grid_size-1, grid_size-1)

path = a_star(grid,start ,goal)

while path is None:
    # Remove one obstacle at random and try again
    obstacles = [(x,y,z) for x in range(grid_size) for y in range(grid_size) for z in range(grid_size) if grid[x][y][z] == 1]
    if not obstacles:
        break

    obstacle_to_remove = random.choice(obstacles)
    x,y,z = obstacle_to_remove
    grid[x][y][z] = 0

    path = a_star(grid,start ,goal)

if path is None:
    print("No path found")
else:
    # Visualize the path
    plot_path(grid,path)

    # Print the final path
    print("Final path:", path)
